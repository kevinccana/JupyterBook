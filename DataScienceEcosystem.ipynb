{
  "metadata": {
    "kernelspec": {
      "name": "python",
      "display_name": "Python (Pyodide)",
      "language": "python"
    },
    "language_info": {
      "codemirror_mode": {
        "name": "python",
        "version": 3
      },
      "file_extension": ".py",
      "mimetype": "text/x-python",
      "name": "python",
      "nbconvert_exporter": "python",
      "pygments_lexer": "ipython3",
      "version": "3.8"
    }
  },
  "nbformat_minor": 4,
  "nbformat": 4,
  "cells": [
    {
      "cell_type": "markdown",
      "source": "<H1> Data Science Tools and Ecosystem</H1>",
      "metadata": {}
    },
    {
      "cell_type": "markdown",
      "source": "In this notebook, Data Science Tools and Ecosystem are summarized.",
      "metadata": {}
    },
    {
      "cell_type": "markdown",
      "source": "<b>Objectives:</b>\n<ul>\n    <li>List popular languages for Data Science</li>\n    <li>List some of the used libreries for Data Science</li>\n    <li>List tools of the used for Data Science </li>\n</ul>",
      "metadata": {}
    },
    {
      "cell_type": "markdown",
      "source": "Some of the popular languages that Data Scientists use are:\n<ol>\n<li>Python</li>\n<li>R</li>\n<li>Matlap</li>\n<li>Julia</li>\n</ol>",
      "metadata": {}
    },
    {
      "cell_type": "markdown",
      "source": "Some of the commonly used libraries used by Data Scientists include:\n<ol>\n<li>Pandas</li>\n<li>Numpy</li>\n<li>Ploty</li>\n<li>Scikit-learn</li>\n<li>Keras / Tensorflow</li>\n</ol>",
      "metadata": {}
    },
    {
      "cell_type": "markdown",
      "source": "<table border=\"1\">\n    <tr><td>Data Science Tools</td></tr>\n    <tr><td>Apache Spark</td></tr>\n    <tr><td>Hadoop</td></tr>\n    <tr><td>MongoDB</td></tr>\n</table>\n    ",
      "metadata": {}
    },
    {
      "cell_type": "markdown",
      "source": "<table border=\"1\">\n    <tr><td><H3>Below are a few examples of evaluating arithmetic expressions in Python</H3></td></tr>\n</table>",
      "metadata": {}
    },
    {
      "cell_type": "code",
      "source": "#This a simple arithmetic expression to mutiply then add integers:\n(3*4)+5",
      "metadata": {
        "trusted": true
      },
      "outputs": [
        {
          "execution_count": 11,
          "output_type": "execute_result",
          "data": {
            "text/plain": "17"
          },
          "metadata": {}
        }
      ],
      "execution_count": 11
    },
    {
      "cell_type": "code",
      "source": "# his will convert 200 minutes to hours by diving by 60\n200/60",
      "metadata": {
        "trusted": true
      },
      "outputs": [
        {
          "execution_count": 12,
          "output_type": "execute_result",
          "data": {
            "text/plain": "3.3333333333333335"
          },
          "metadata": {}
        }
      ],
      "execution_count": 12
    },
    {
      "cell_type": "markdown",
      "source": "<h2>Author</h2>\nJeison Kevin Ccana Romero",
      "metadata": {}
    }
  ]
}